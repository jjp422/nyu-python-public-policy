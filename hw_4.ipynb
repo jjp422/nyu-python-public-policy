{
  "nbformat": 4,
  "nbformat_minor": 0,
  "metadata": {
    "colab": {
      "name": "hw_4.ipynb",
      "provenance": [],
      "collapsed_sections": [],
      "include_colab_link": true
    },
    "kernelspec": {
      "name": "python3",
      "display_name": "Python 3"
    }
  },
  "cells": [
    {
      "cell_type": "markdown",
      "metadata": {
        "id": "view-in-github",
        "colab_type": "text"
      },
      "source": [
        "<a href=\"https://colab.research.google.com/github/jjp422/nyu-python-public-policy/blob/master/hw_4.ipynb\" target=\"_parent\"><img src=\"https://colab.research.google.com/assets/colab-badge.svg\" alt=\"Open In Colab\"/></a>"
      ]
    },
    {
      "cell_type": "markdown",
      "metadata": {
        "id": "7fo4kU_UjgyY",
        "colab_type": "text"
      },
      "source": [
        "# **NYU Wagner - Python Coding for Public Policy**\n",
        "# Starter notebook for HW 4: Analyzing and visualizing specific categories of 311 complaints"
      ]
    },
    {
      "cell_type": "markdown",
      "metadata": {
        "id": "9rvnMzjSMK36",
        "colab_type": "text"
      },
      "source": [
        "## Start by importing necessary packages"
      ]
    },
    {
      "cell_type": "code",
      "metadata": {
        "id": "afIn7RhGFj7j",
        "colab_type": "code",
        "colab": {}
      },
      "source": [
        "import pandas as pd\n",
        "import matplotlib.pyplot as plt \n",
        "import numpy as np\n",
        "\n",
        "from google.colab import drive\n",
        "\n",
        "pd.set_option('display.max_columns', None)\n",
        "pd.set_option('display.max_rows', None)"
      ],
      "execution_count": 0,
      "outputs": []
    },
    {
      "cell_type": "markdown",
      "metadata": {
        "id": "R1G04BmMMFJb",
        "colab_type": "text"
      },
      "source": [
        "## Read and save our cleaned 311 Service Requests dataset as a pandas dataframe named \"df\""
      ]
    },
    {
      "cell_type": "code",
      "metadata": {
        "id": "vF4GZaq-Fvoq",
        "colab_type": "code",
        "outputId": "902fbb2d-fc6c-49a9-d8df-e30a5c5b81f9",
        "colab": {
          "base_uri": "https://localhost:8080/",
          "height": 72
        }
      },
      "source": [
        "drive.mount('/content/drive')\n",
        "df = pd.read_csv('/content/drive/My Drive/Data for Python/cleaned_311_data.csv', header='infer')"
      ],
      "execution_count": 110,
      "outputs": [
        {
          "output_type": "stream",
          "text": [
            "Drive already mounted at /content/drive; to attempt to forcibly remount, call drive.mount(\"/content/drive\", force_remount=True).\n"
          ],
          "name": "stdout"
        },
        {
          "output_type": "stream",
          "text": [
            "/usr/local/lib/python3.6/dist-packages/IPython/core/interactiveshell.py:2718: DtypeWarning: Columns (9,18,21,32,35) have mixed types. Specify dtype option on import or set low_memory=False.\n",
            "  interactivity=interactivity, compiler=compiler, result=result)\n"
          ],
          "name": "stderr"
        }
      ]
    },
    {
      "cell_type": "markdown",
      "metadata": {
        "id": "LvGH8N9CLcj4",
        "colab_type": "text"
      },
      "source": [
        "## **Problem Statement:** \n",
        "There seems to be a general trend that the higher the community district population, the higher the number of 311 requests. However, there is a lot of variance in the data. What if we only look at complaint types that are likely influenced by population?\n",
        "\n",
        "\"Noise - Residential\" and \"HEAT/HOT WATER\" were the most frequest requests in the entire 311 dataset. Let's try isolating the count of requests in each of those two categories versus all the other complaints."
      ]
    },
    {
      "cell_type": "markdown",
      "metadata": {
        "id": "xmKsEI-BkoXZ",
        "colab_type": "text"
      },
      "source": [
        "**Step 1**. First you will need to prep your data to get the count of complaints categorized as Noise - Residential, HEAT/HOT WATER, and everything else. You can update the code from lecture that gets the total count of 311 requests per CD to instead get the count of 311 requests per CD that meet the criteria for the 3 categories. You should create three separate dataframes, one per category:\n",
        "\n",
        "1. `complaint_type = 'Noise - Residential'`\n",
        "2. `complaint_type = 'HEAT/HOT WATER'`\n",
        "3. Everything else: `(complaint_type != 'Noise - Residential') & (complaint_type != 'HEAT/HOT WATER')`"
      ]
    },
    {
      "cell_type": "markdown",
      "metadata": {
        "id": "WLfodgid1PUf",
        "colab_type": "text"
      },
      "source": [
        "First create 3 dataframes, that contain the desired rows based on the complaint_type row filtering."
      ]
    },
    {
      "cell_type": "code",
      "metadata": {
        "id": "troJZFWgq9zg",
        "colab_type": "code",
        "colab": {}
      },
      "source": [
        "noise = df[df.complaint_type == 'Noise - Residential']\n",
        "heatwater = df[df.complaint_type == 'HEAT/HOT WATER']\n",
        "other = df[(df.complaint_type != 'HEAT/HOT WATER') & (df.complaint_type != 'Noise - Residential')]"
      ],
      "execution_count": 0,
      "outputs": []
    },
    {
      "cell_type": "markdown",
      "metadata": {
        "id": "Y4zBrzYhUDP3",
        "colab_type": "text"
      },
      "source": [
        "Then group each dataframes by the `community_board` value to get the count of request per community district."
      ]
    },
    {
      "cell_type": "code",
      "metadata": {
        "id": "hLIoPlYrUClp",
        "colab_type": "code",
        "outputId": "9f7e730f-ad6f-4b36-f479-75528b278d46",
        "colab": {
          "base_uri": "https://localhost:8080/",
          "height": 90
        }
      },
      "source": [
        "count_noise = noise.groupby('community_board').size().reset_index(name='count_of_311_requests')\n",
        "print(len(count_noise))\n",
        "\n",
        "count_heatwater = heatwater.groupby('community_board').size().reset_index(name='count_of_311_requests')\n",
        "print(len(count_heatwater))\n",
        "\n",
        "count_other = other.groupby('community_board').size().reset_index(name='count_of_311_requests')\n",
        "print(len(count_other))\n",
        "\n",
        "# note: we won't use count_all in the charts, but we can use it as a check that the subsets all add up to the correct total\n",
        "count_all = df.groupby('community_board').size().reset_index(name='count_of_311_requests')\n",
        "print(len(count_all))"
      ],
      "execution_count": 112,
      "outputs": [
        {
          "output_type": "stream",
          "text": [
            "69\n",
            "66\n",
            "77\n",
            "77\n"
          ],
          "name": "stdout"
        }
      ]
    },
    {
      "cell_type": "markdown",
      "metadata": {
        "id": "JCA-z7Go0_BM",
        "colab_type": "text"
      },
      "source": [
        "Note the lengths of these dataframes. We can see that we're going to run into problems, because they're each a different length (i.e. have a different number of rows) and they're all greater than 59. There are only 59 community districts in the city, so these dataframes are including some extra invalid community district rows. The invalid rows include community board values containing \"Unspecified\" or district numbers that are higher than what exist in real life. Ex: '84 QUEENS', 'Unspecified BRONX'\n"
      ]
    },
    {
      "cell_type": "markdown",
      "metadata": {
        "id": "bFtFoNIh2OUo",
        "colab_type": "text"
      },
      "source": [
        "Here's a list of all the valid borocd values that exist in the city:"
      ]
    },
    {
      "cell_type": "code",
      "metadata": {
        "id": "ATGOqZ4E2H3f",
        "colab_type": "code",
        "colab": {}
      },
      "source": [
        "valid_borocds = ['101','102','103','104','105','106','107','108','109','110','111','112','201','202','203','204','205','206','207','208','209','210','211','212','301','302','303','304','305','306','307','308','309','310','311','312','313','314','315','316','317','318','401','402','403','404','405','406','407','408','409','410','411','412','413','414','501','502','503']"
      ],
      "execution_count": 0,
      "outputs": []
    },
    {
      "cell_type": "markdown",
      "metadata": {
        "id": "lxVd_nzZ1zHM",
        "colab_type": "text"
      },
      "source": [
        "If we recode the community_board column into borocd, we can filter our dataframes to only keep valid borocd rows"
      ]
    },
    {
      "cell_type": "code",
      "metadata": {
        "id": "DJwokPlrGNKv",
        "colab_type": "code",
        "colab": {}
      },
      "source": [
        "# this function will recode the community_board value into borocd in a new column\n",
        "\n",
        "def recode_borocd_counts(row):\n",
        "  if row.community_board[0] != 'U':\n",
        "    if 'MANHATTAN' in row.community_board:\n",
        "      return '1' + row.community_board[0:2]\n",
        "    elif 'BRONX' in row.community_board:\n",
        "      return '2' + row.community_board[0:2]\n",
        "    elif 'BROOKLYN' in row.community_board:\n",
        "      return '3' + row.community_board[0:2]\n",
        "    elif 'QUEENS' in row.community_board:\n",
        "      return '4' + row.community_board[0:2]\n",
        "    elif 'STATEN ISLAND' in row.community_board:\n",
        "      return '5' + row.community_board[0:2]\n",
        "  else:\n",
        "    return 'Invalid borocd'\n",
        "\n",
        "# we can apply the function to each of our dataframes. this is the beauty of functions; you can reuse them on multiple objects!\n",
        "\n",
        "count_noise['borocd'] = count_noise.apply(recode_borocd_counts, axis=1)\n",
        "\n",
        "count_heatwater['borocd'] = count_heatwater.apply(recode_borocd_counts, axis=1)\n",
        "\n",
        "count_other['borocd'] = count_other.apply(recode_borocd_counts, axis=1)\n",
        "\n",
        "count_all['borocd'] = count_all.apply(recode_borocd_counts, axis=1)"
      ],
      "execution_count": 0,
      "outputs": []
    },
    {
      "cell_type": "markdown",
      "metadata": {
        "id": "sud8LNl03bkK",
        "colab_type": "text"
      },
      "source": [
        "Now we can filter the dataframes to only keep the valid borocd rows. Remember the `.isin()` function from one of our prior lectures?"
      ]
    },
    {
      "cell_type": "code",
      "metadata": {
        "id": "APZ8jJwJ3Bmy",
        "colab_type": "code",
        "outputId": "20834191-b6ac-4047-8672-cd0802c01c34",
        "colab": {
          "base_uri": "https://localhost:8080/",
          "height": 90
        }
      },
      "source": [
        "count_noise = count_noise[count_noise.borocd.isin(valid_borocds)]\n",
        "print(len(count_noise))\n",
        "\n",
        "count_heatwater = count_heatwater[count_heatwater.borocd.isin(valid_borocds)]\n",
        "print(len(count_heatwater))\n",
        "\n",
        "count_other = count_other[count_other.borocd.isin(valid_borocds)]\n",
        "print(len(count_other))\n",
        "\n",
        "count_all = count_all[count_all.borocd.isin(valid_borocds)]\n",
        "print(len(count_all))"
      ],
      "execution_count": 115,
      "outputs": [
        {
          "output_type": "stream",
          "text": [
            "59\n",
            "59\n",
            "59\n",
            "59\n"
          ],
          "name": "stdout"
        }
      ]
    },
    {
      "cell_type": "markdown",
      "metadata": {
        "id": "lzg5cgR93vgD",
        "colab_type": "text"
      },
      "source": [
        "Great, now we have clean dataframes that are all the same, correct length. Let's make sure the 311 request counts add up as expected."
      ]
    },
    {
      "cell_type": "code",
      "metadata": {
        "id": "9fAx9jYT459Q",
        "colab_type": "code",
        "outputId": "9292bed2-598a-4e91-cde0-32c3ec3e3d7c",
        "colab": {
          "base_uri": "https://localhost:8080/",
          "height": 458
        }
      },
      "source": [
        "print(count_noise.head())\n",
        "print(count_heatwater.head())\n",
        "print(count_other.head())\n",
        "print(count_all.head())"
      ],
      "execution_count": 116,
      "outputs": [
        {
          "output_type": "stream",
          "text": [
            "    community_board  count_of_311_requests borocd\n",
            "1          01 BRONX                   3691    201\n",
            "2       01 BROOKLYN                   5844    301\n",
            "3      01 MANHATTAN                    722    101\n",
            "4         01 QUEENS                   4589    401\n",
            "5  01 STATEN ISLAND                   5052    501\n",
            "    community_board  count_of_311_requests borocd\n",
            "0          01 BRONX                   3346    201\n",
            "1       01 BROOKLYN                   2868    301\n",
            "2      01 MANHATTAN                    276    101\n",
            "3         01 QUEENS                   2466    401\n",
            "4  01 STATEN ISLAND                   1644    501\n",
            "    community_board  count_of_311_requests borocd\n",
            "1          01 BRONX                  20316    201\n",
            "2       01 BROOKLYN                  59389    301\n",
            "3      01 MANHATTAN                  20261    101\n",
            "4         01 QUEENS                  53370    401\n",
            "5  01 STATEN ISLAND                  58449    501\n",
            "    community_board  count_of_311_requests borocd\n",
            "1          01 BRONX                  27353    201\n",
            "2       01 BROOKLYN                  68101    301\n",
            "3      01 MANHATTAN                  21259    101\n",
            "4         01 QUEENS                  60425    401\n",
            "5  01 STATEN ISLAND                  65145    501\n"
          ],
          "name": "stdout"
        }
      ]
    },
    {
      "cell_type": "code",
      "metadata": {
        "id": "PuNKZhxg-VLg",
        "colab_type": "code",
        "outputId": "ddd70ee9-646e-476d-ac86-312961ffe267",
        "colab": {
          "base_uri": "https://localhost:8080/",
          "height": 35
        }
      },
      "source": [
        "27353 == 20316 + 3346 + 3691"
      ],
      "execution_count": 117,
      "outputs": [
        {
          "output_type": "execute_result",
          "data": {
            "text/plain": [
              "True"
            ]
          },
          "metadata": {
            "tags": []
          },
          "execution_count": 117
        }
      ]
    },
    {
      "cell_type": "markdown",
      "metadata": {
        "id": "ih2iDxK9RlnM",
        "colab_type": "text"
      },
      "source": [
        "Everything adds up, and we're ready to start Step 2"
      ]
    },
    {
      "cell_type": "markdown",
      "metadata": {
        "id": "1X6gVfhFlXf_",
        "colab_type": "text"
      },
      "source": [
        "**Step 2**. Create a stacked bar chart of 311 requests per community district. Each community district bar should be comprised of three stacked bars, one for each category listed below. The total height of each community district bar (the sum of the three stacked bars) should reflect the total count of 311 complaints per community district.\n",
        "- number of `'Noise - Residential'` complaints per community district\n",
        "- number of `'HEAT/HOT WATER'` complaints per community district\n",
        "- number of other complaints per community district "
      ]
    },
    {
      "cell_type": "code",
      "metadata": {
        "id": "kwsyB1_R4BXU",
        "colab_type": "code",
        "colab": {
          "base_uri": "https://localhost:8080/",
          "height": 206
        },
        "outputId": "e0e5df3f-6822-49eb-e2ae-4ca0ac13d300"
      },
      "source": [
        "count_noise.head()"
      ],
      "execution_count": 118,
      "outputs": [
        {
          "output_type": "execute_result",
          "data": {
            "text/html": [
              "<div>\n",
              "<style scoped>\n",
              "    .dataframe tbody tr th:only-of-type {\n",
              "        vertical-align: middle;\n",
              "    }\n",
              "\n",
              "    .dataframe tbody tr th {\n",
              "        vertical-align: top;\n",
              "    }\n",
              "\n",
              "    .dataframe thead th {\n",
              "        text-align: right;\n",
              "    }\n",
              "</style>\n",
              "<table border=\"1\" class=\"dataframe\">\n",
              "  <thead>\n",
              "    <tr style=\"text-align: right;\">\n",
              "      <th></th>\n",
              "      <th>community_board</th>\n",
              "      <th>count_of_311_requests</th>\n",
              "      <th>borocd</th>\n",
              "    </tr>\n",
              "  </thead>\n",
              "  <tbody>\n",
              "    <tr>\n",
              "      <th>1</th>\n",
              "      <td>01 BRONX</td>\n",
              "      <td>3691</td>\n",
              "      <td>201</td>\n",
              "    </tr>\n",
              "    <tr>\n",
              "      <th>2</th>\n",
              "      <td>01 BROOKLYN</td>\n",
              "      <td>5844</td>\n",
              "      <td>301</td>\n",
              "    </tr>\n",
              "    <tr>\n",
              "      <th>3</th>\n",
              "      <td>01 MANHATTAN</td>\n",
              "      <td>722</td>\n",
              "      <td>101</td>\n",
              "    </tr>\n",
              "    <tr>\n",
              "      <th>4</th>\n",
              "      <td>01 QUEENS</td>\n",
              "      <td>4589</td>\n",
              "      <td>401</td>\n",
              "    </tr>\n",
              "    <tr>\n",
              "      <th>5</th>\n",
              "      <td>01 STATEN ISLAND</td>\n",
              "      <td>5052</td>\n",
              "      <td>501</td>\n",
              "    </tr>\n",
              "  </tbody>\n",
              "</table>\n",
              "</div>"
            ],
            "text/plain": [
              "    community_board  count_of_311_requests borocd\n",
              "1          01 BRONX                   3691    201\n",
              "2       01 BROOKLYN                   5844    301\n",
              "3      01 MANHATTAN                    722    101\n",
              "4         01 QUEENS                   4589    401\n",
              "5  01 STATEN ISLAND                   5052    501"
            ]
          },
          "metadata": {
            "tags": []
          },
          "execution_count": 118
        }
      ]
    },
    {
      "cell_type": "code",
      "metadata": {
        "id": "rutLp_047jfg",
        "colab_type": "code",
        "colab": {
          "base_uri": "https://localhost:8080/",
          "height": 522
        },
        "outputId": "b2f4558f-2b72-41df-dc93-9505cd832050"
      },
      "source": [
        "#How to make the bars closer together??\n",
        "position_on_x = np.arange(len(count_all))\n",
        "\n",
        "# original set of counts data\n",
        "noise_complaints = np.array(count_noise.sort_values(by='count_of_311_requests', ascending=False).count_of_311_requests)\n",
        "\n",
        "# creating an array (aka list) of test data so we can easily visualize how the stacking works\n",
        "heatwater_complaints = np.array(count_heatwater.sort_values(by='count_of_311_requests', ascending=False).count_of_311_requests)\n",
        "\n",
        "other_complaints = np.array(count_other.sort_values(by='count_of_311_requests', ascending=False).count_of_311_requests)\n",
        "\n",
        "plt.figure(figsize=(30, 8))\n",
        "\n",
        "# need to name the plots as objects in order to access their color attributes in the legend\n",
        "plot1 = plt.bar(\n",
        "  position_on_x,\n",
        "  noise_complaints,\n",
        "  align='center',\n",
        "  color='blue',\n",
        "  label='Noise'\n",
        ")\n",
        "\n",
        "# the second plot gets rendered on top of the first\n",
        "plot2 = plt.bar(\n",
        "  position_on_x,\n",
        "  heatwater_complaints,\n",
        "  bottom=noise_complaints, \n",
        "  # bottom defines the starting number to which each y value will be added instead of starting at 0\n",
        "  align='center',\n",
        "  color='#1BC618',\n",
        "  label='Heat and Hot Water'\n",
        ")\n",
        "\n",
        "plot3 = plt.bar(\n",
        "  position_on_x,\n",
        "  other_complaints,\n",
        "  bottom=heatwater_complaints, \n",
        "  align='center',\n",
        "  color='#f54242',\n",
        "  label='Other'\n",
        ")\n",
        "\n",
        "plt.xticks(position_on_x, count_all.sort_values(by='count_of_311_requests', ascending=False).borocd, rotation=90)\n",
        "\n",
        "plt.title('Count of Most Frequent 311 Requests per Community District')\n",
        "plt.xlabel('BoroCD')\n",
        "plt.ylabel('# of Requests')\n",
        "plt.legend() # defaults to putting legend in top right\n",
        "\n",
        "plt.show()\n",
        "\n"
      ],
      "execution_count": 119,
      "outputs": [
        {
          "output_type": "display_data",
          "data": {
            "image/png": "[encoded data removed]",
            "text/plain": [
              "<Figure size 2160x576 with 1 Axes>"
            ]
          },
          "metadata": {
            "tags": []
          }
        }
      ]
    },
    {
      "cell_type": "markdown",
      "metadata": {
        "id": "OmKWCK9GlzgY",
        "colab_type": "text"
      },
      "source": [
        "**Step 3**. Using the same three dataframes created in Step 1, create a scatter plot of community district population (x-axis) vs. community district 311 counts (y-axis) split out by complaint category (noise, heat/water, other). The scatter plot should show the counts of each of the three complaint categories in a different color."
      ]
    },
    {
      "cell_type": "code",
      "metadata": {
        "id": "hJvDQgyKCxCn",
        "colab_type": "code",
        "colab": {
          "base_uri": "https://localhost:8080/",
          "height": 206
        },
        "outputId": "3fb3b891-4bbc-4a9d-ddd8-8aefda392ce2"
      },
      "source": [
        "population = pd.read_csv('https://data.cityofnewyork.us/api/views/xi7c-iiu2/rows.csv?accessType=DOWNLOAD', header='infer')\n",
        "population.head()"
      ],
      "execution_count": 120,
      "outputs": [
        {
          "output_type": "execute_result",
          "data": {
            "text/html": [
              "<div>\n",
              "<style scoped>\n",
              "    .dataframe tbody tr th:only-of-type {\n",
              "        vertical-align: middle;\n",
              "    }\n",
              "\n",
              "    .dataframe tbody tr th {\n",
              "        vertical-align: top;\n",
              "    }\n",
              "\n",
              "    .dataframe thead th {\n",
              "        text-align: right;\n",
              "    }\n",
              "</style>\n",
              "<table border=\"1\" class=\"dataframe\">\n",
              "  <thead>\n",
              "    <tr style=\"text-align: right;\">\n",
              "      <th></th>\n",
              "      <th>Borough</th>\n",
              "      <th>CD Number</th>\n",
              "      <th>CD Name</th>\n",
              "      <th>1970 Population</th>\n",
              "      <th>1980 Population</th>\n",
              "      <th>1990 Population</th>\n",
              "      <th>2000 Population</th>\n",
              "      <th>2010 Population</th>\n",
              "    </tr>\n",
              "  </thead>\n",
              "  <tbody>\n",
              "    <tr>\n",
              "      <th>0</th>\n",
              "      <td>Bronx</td>\n",
              "      <td>1</td>\n",
              "      <td>Melrose, Mott Haven, Port Morris</td>\n",
              "      <td>138557</td>\n",
              "      <td>78441</td>\n",
              "      <td>77214</td>\n",
              "      <td>82159</td>\n",
              "      <td>91497</td>\n",
              "    </tr>\n",
              "    <tr>\n",
              "      <th>1</th>\n",
              "      <td>Bronx</td>\n",
              "      <td>2</td>\n",
              "      <td>Hunts Point, Longwood</td>\n",
              "      <td>99493</td>\n",
              "      <td>34399</td>\n",
              "      <td>39443</td>\n",
              "      <td>46824</td>\n",
              "      <td>52246</td>\n",
              "    </tr>\n",
              "    <tr>\n",
              "      <th>2</th>\n",
              "      <td>Bronx</td>\n",
              "      <td>3</td>\n",
              "      <td>Morrisania, Crotona Park East</td>\n",
              "      <td>150636</td>\n",
              "      <td>53635</td>\n",
              "      <td>57162</td>\n",
              "      <td>68574</td>\n",
              "      <td>79762</td>\n",
              "    </tr>\n",
              "    <tr>\n",
              "      <th>3</th>\n",
              "      <td>Bronx</td>\n",
              "      <td>4</td>\n",
              "      <td>Highbridge, Concourse Village</td>\n",
              "      <td>144207</td>\n",
              "      <td>114312</td>\n",
              "      <td>119962</td>\n",
              "      <td>139563</td>\n",
              "      <td>146441</td>\n",
              "    </tr>\n",
              "    <tr>\n",
              "      <th>4</th>\n",
              "      <td>Bronx</td>\n",
              "      <td>5</td>\n",
              "      <td>University Hts., Fordham, Mt. Hope</td>\n",
              "      <td>121807</td>\n",
              "      <td>107995</td>\n",
              "      <td>118435</td>\n",
              "      <td>128313</td>\n",
              "      <td>128200</td>\n",
              "    </tr>\n",
              "  </tbody>\n",
              "</table>\n",
              "</div>"
            ],
            "text/plain": [
              "  Borough  CD Number                             CD Name  1970 Population  \\\n",
              "0   Bronx          1    Melrose, Mott Haven, Port Morris           138557   \n",
              "1   Bronx          2               Hunts Point, Longwood            99493   \n",
              "2   Bronx          3       Morrisania, Crotona Park East           150636   \n",
              "3   Bronx          4       Highbridge, Concourse Village           144207   \n",
              "4   Bronx          5  University Hts., Fordham, Mt. Hope           121807   \n",
              "\n",
              "   1980 Population  1990 Population  2000 Population  2010 Population  \n",
              "0            78441            77214            82159            91497  \n",
              "1            34399            39443            46824            52246  \n",
              "2            53635            57162            68574            79762  \n",
              "3           114312           119962           139563           146441  \n",
              "4           107995           118435           128313           128200  "
            ]
          },
          "metadata": {
            "tags": []
          },
          "execution_count": 120
        }
      ]
    },
    {
      "cell_type": "code",
      "metadata": {
        "id": "MsJX--Y6GKP6",
        "colab_type": "code",
        "colab": {
          "base_uri": "https://localhost:8080/",
          "height": 677
        },
        "outputId": "bf9cae30-3e35-4a35-b80a-c67bd10fd3af"
      },
      "source": [
        "count_noise.head(20)"
      ],
      "execution_count": 121,
      "outputs": [
        {
          "output_type": "execute_result",
          "data": {
            "text/html": [
              "<div>\n",
              "<style scoped>\n",
              "    .dataframe tbody tr th:only-of-type {\n",
              "        vertical-align: middle;\n",
              "    }\n",
              "\n",
              "    .dataframe tbody tr th {\n",
              "        vertical-align: top;\n",
              "    }\n",
              "\n",
              "    .dataframe thead th {\n",
              "        text-align: right;\n",
              "    }\n",
              "</style>\n",
              "<table border=\"1\" class=\"dataframe\">\n",
              "  <thead>\n",
              "    <tr style=\"text-align: right;\">\n",
              "      <th></th>\n",
              "      <th>community_board</th>\n",
              "      <th>count_of_311_requests</th>\n",
              "      <th>borocd</th>\n",
              "    </tr>\n",
              "  </thead>\n",
              "  <tbody>\n",
              "    <tr>\n",
              "      <th>1</th>\n",
              "      <td>01 BRONX</td>\n",
              "      <td>3691</td>\n",
              "      <td>201</td>\n",
              "    </tr>\n",
              "    <tr>\n",
              "      <th>2</th>\n",
              "      <td>01 BROOKLYN</td>\n",
              "      <td>5844</td>\n",
              "      <td>301</td>\n",
              "    </tr>\n",
              "    <tr>\n",
              "      <th>3</th>\n",
              "      <td>01 MANHATTAN</td>\n",
              "      <td>722</td>\n",
              "      <td>101</td>\n",
              "    </tr>\n",
              "    <tr>\n",
              "      <th>4</th>\n",
              "      <td>01 QUEENS</td>\n",
              "      <td>4589</td>\n",
              "      <td>401</td>\n",
              "    </tr>\n",
              "    <tr>\n",
              "      <th>5</th>\n",
              "      <td>01 STATEN ISLAND</td>\n",
              "      <td>5052</td>\n",
              "      <td>501</td>\n",
              "    </tr>\n",
              "    <tr>\n",
              "      <th>6</th>\n",
              "      <td>02 BRONX</td>\n",
              "      <td>1939</td>\n",
              "      <td>202</td>\n",
              "    </tr>\n",
              "    <tr>\n",
              "      <th>7</th>\n",
              "      <td>02 BROOKLYN</td>\n",
              "      <td>3795</td>\n",
              "      <td>302</td>\n",
              "    </tr>\n",
              "    <tr>\n",
              "      <th>8</th>\n",
              "      <td>02 MANHATTAN</td>\n",
              "      <td>1837</td>\n",
              "      <td>102</td>\n",
              "    </tr>\n",
              "    <tr>\n",
              "      <th>9</th>\n",
              "      <td>02 QUEENS</td>\n",
              "      <td>2279</td>\n",
              "      <td>402</td>\n",
              "    </tr>\n",
              "    <tr>\n",
              "      <th>10</th>\n",
              "      <td>02 STATEN ISLAND</td>\n",
              "      <td>1592</td>\n",
              "      <td>502</td>\n",
              "    </tr>\n",
              "    <tr>\n",
              "      <th>11</th>\n",
              "      <td>03 BRONX</td>\n",
              "      <td>4238</td>\n",
              "      <td>203</td>\n",
              "    </tr>\n",
              "    <tr>\n",
              "      <th>12</th>\n",
              "      <td>03 BROOKLYN</td>\n",
              "      <td>7898</td>\n",
              "      <td>303</td>\n",
              "    </tr>\n",
              "    <tr>\n",
              "      <th>13</th>\n",
              "      <td>03 MANHATTAN</td>\n",
              "      <td>6272</td>\n",
              "      <td>103</td>\n",
              "    </tr>\n",
              "    <tr>\n",
              "      <th>14</th>\n",
              "      <td>03 QUEENS</td>\n",
              "      <td>3881</td>\n",
              "      <td>403</td>\n",
              "    </tr>\n",
              "    <tr>\n",
              "      <th>15</th>\n",
              "      <td>03 STATEN ISLAND</td>\n",
              "      <td>1188</td>\n",
              "      <td>503</td>\n",
              "    </tr>\n",
              "    <tr>\n",
              "      <th>16</th>\n",
              "      <td>04 BRONX</td>\n",
              "      <td>7407</td>\n",
              "      <td>204</td>\n",
              "    </tr>\n",
              "    <tr>\n",
              "      <th>17</th>\n",
              "      <td>04 BROOKLYN</td>\n",
              "      <td>6394</td>\n",
              "      <td>304</td>\n",
              "    </tr>\n",
              "    <tr>\n",
              "      <th>18</th>\n",
              "      <td>04 MANHATTAN</td>\n",
              "      <td>2702</td>\n",
              "      <td>104</td>\n",
              "    </tr>\n",
              "    <tr>\n",
              "      <th>19</th>\n",
              "      <td>04 QUEENS</td>\n",
              "      <td>2710</td>\n",
              "      <td>404</td>\n",
              "    </tr>\n",
              "    <tr>\n",
              "      <th>20</th>\n",
              "      <td>05 BRONX</td>\n",
              "      <td>6819</td>\n",
              "      <td>205</td>\n",
              "    </tr>\n",
              "  </tbody>\n",
              "</table>\n",
              "</div>"
            ],
            "text/plain": [
              "     community_board  count_of_311_requests borocd\n",
              "1           01 BRONX                   3691    201\n",
              "2        01 BROOKLYN                   5844    301\n",
              "3       01 MANHATTAN                    722    101\n",
              "4          01 QUEENS                   4589    401\n",
              "5   01 STATEN ISLAND                   5052    501\n",
              "6           02 BRONX                   1939    202\n",
              "7        02 BROOKLYN                   3795    302\n",
              "8       02 MANHATTAN                   1837    102\n",
              "9          02 QUEENS                   2279    402\n",
              "10  02 STATEN ISLAND                   1592    502\n",
              "11          03 BRONX                   4238    203\n",
              "12       03 BROOKLYN                   7898    303\n",
              "13      03 MANHATTAN                   6272    103\n",
              "14         03 QUEENS                   3881    403\n",
              "15  03 STATEN ISLAND                   1188    503\n",
              "16          04 BRONX                   7407    204\n",
              "17       04 BROOKLYN                   6394    304\n",
              "18      04 MANHATTAN                   2702    104\n",
              "19         04 QUEENS                   2710    404\n",
              "20          05 BRONX                   6819    205"
            ]
          },
          "metadata": {
            "tags": []
          },
          "execution_count": 121
        }
      ]
    },
    {
      "cell_type": "code",
      "metadata": {
        "id": "WXE-qa0aDUZ8",
        "colab_type": "code",
        "colab": {}
      },
      "source": [
        "\n",
        "def recode_borocd_pop(row):\n",
        "  if row.Borough == 'Manhattan':\n",
        "    return str(100 + row['CD Number'])\n",
        "  elif row.Borough == 'Bronx':\n",
        "    return str(200 + row['CD Number'])\n",
        "  elif row.Borough == 'Brooklyn':\n",
        "    return str(300 + row['CD Number'])\n",
        "  elif row.Borough == 'Queens':\n",
        "    return str(400 + row['CD Number'])\n",
        "  elif row.Borough == 'Staten Island':\n",
        "    return str(500 + row['CD Number'])\n",
        "  else:\n",
        "    return 'Invalid borocd'\n",
        "\n",
        "population['borocd'] = population.apply(recode_borocd_pop, axis=1)"
      ],
      "execution_count": 0,
      "outputs": []
    },
    {
      "cell_type": "code",
      "metadata": {
        "id": "WE3CYD7UHAzl",
        "colab_type": "code",
        "colab": {
          "base_uri": "https://localhost:8080/",
          "height": 206
        },
        "outputId": "e21beee7-6fe1-487d-eef9-2ba031fa747a"
      },
      "source": [
        "merged_noise = pd.merge(left=count_noise, right=population, left_on='borocd', right_on='borocd')\n",
        "merged_noise.head()\n"
      ],
      "execution_count": 123,
      "outputs": [
        {
          "output_type": "execute_result",
          "data": {
            "text/html": [
              "<div>\n",
              "<style scoped>\n",
              "    .dataframe tbody tr th:only-of-type {\n",
              "        vertical-align: middle;\n",
              "    }\n",
              "\n",
              "    .dataframe tbody tr th {\n",
              "        vertical-align: top;\n",
              "    }\n",
              "\n",
              "    .dataframe thead th {\n",
              "        text-align: right;\n",
              "    }\n",
              "</style>\n",
              "<table border=\"1\" class=\"dataframe\">\n",
              "  <thead>\n",
              "    <tr style=\"text-align: right;\">\n",
              "      <th></th>\n",
              "      <th>community_board</th>\n",
              "      <th>count_of_311_requests</th>\n",
              "      <th>borocd</th>\n",
              "      <th>Borough</th>\n",
              "      <th>CD Number</th>\n",
              "      <th>CD Name</th>\n",
              "      <th>1970 Population</th>\n",
              "      <th>1980 Population</th>\n",
              "      <th>1990 Population</th>\n",
              "      <th>2000 Population</th>\n",
              "      <th>2010 Population</th>\n",
              "    </tr>\n",
              "  </thead>\n",
              "  <tbody>\n",
              "    <tr>\n",
              "      <th>0</th>\n",
              "      <td>01 BRONX</td>\n",
              "      <td>3691</td>\n",
              "      <td>201</td>\n",
              "      <td>Bronx</td>\n",
              "      <td>1</td>\n",
              "      <td>Melrose, Mott Haven, Port Morris</td>\n",
              "      <td>138557</td>\n",
              "      <td>78441</td>\n",
              "      <td>77214</td>\n",
              "      <td>82159</td>\n",
              "      <td>91497</td>\n",
              "    </tr>\n",
              "    <tr>\n",
              "      <th>1</th>\n",
              "      <td>01 BROOKLYN</td>\n",
              "      <td>5844</td>\n",
              "      <td>301</td>\n",
              "      <td>Brooklyn</td>\n",
              "      <td>1</td>\n",
              "      <td>Williamsburg, Greenpoint</td>\n",
              "      <td>179390</td>\n",
              "      <td>142942</td>\n",
              "      <td>155972</td>\n",
              "      <td>160338</td>\n",
              "      <td>173083</td>\n",
              "    </tr>\n",
              "    <tr>\n",
              "      <th>2</th>\n",
              "      <td>01 MANHATTAN</td>\n",
              "      <td>722</td>\n",
              "      <td>101</td>\n",
              "      <td>Manhattan</td>\n",
              "      <td>1</td>\n",
              "      <td>Battery Park City, Tribeca</td>\n",
              "      <td>7706</td>\n",
              "      <td>15918</td>\n",
              "      <td>25366</td>\n",
              "      <td>34420</td>\n",
              "      <td>60978</td>\n",
              "    </tr>\n",
              "    <tr>\n",
              "      <th>3</th>\n",
              "      <td>01 QUEENS</td>\n",
              "      <td>4589</td>\n",
              "      <td>401</td>\n",
              "      <td>Queens</td>\n",
              "      <td>1</td>\n",
              "      <td>Astoria, Long Island City</td>\n",
              "      <td>185925</td>\n",
              "      <td>185198</td>\n",
              "      <td>188549</td>\n",
              "      <td>211220</td>\n",
              "      <td>191105</td>\n",
              "    </tr>\n",
              "    <tr>\n",
              "      <th>4</th>\n",
              "      <td>01 STATEN ISLAND</td>\n",
              "      <td>5052</td>\n",
              "      <td>501</td>\n",
              "      <td>Staten Island</td>\n",
              "      <td>1</td>\n",
              "      <td>Stapleton, Port Richmond</td>\n",
              "      <td>135875</td>\n",
              "      <td>138489</td>\n",
              "      <td>137806</td>\n",
              "      <td>162609</td>\n",
              "      <td>175756</td>\n",
              "    </tr>\n",
              "  </tbody>\n",
              "</table>\n",
              "</div>"
            ],
            "text/plain": [
              "    community_board  count_of_311_requests borocd        Borough  CD Number  \\\n",
              "0          01 BRONX                   3691    201          Bronx          1   \n",
              "1       01 BROOKLYN                   5844    301       Brooklyn          1   \n",
              "2      01 MANHATTAN                    722    101      Manhattan          1   \n",
              "3         01 QUEENS                   4589    401         Queens          1   \n",
              "4  01 STATEN ISLAND                   5052    501  Staten Island          1   \n",
              "\n",
              "                            CD Name  1970 Population  1980 Population  \\\n",
              "0  Melrose, Mott Haven, Port Morris           138557            78441   \n",
              "1          Williamsburg, Greenpoint           179390           142942   \n",
              "2        Battery Park City, Tribeca             7706            15918   \n",
              "3         Astoria, Long Island City           185925           185198   \n",
              "4          Stapleton, Port Richmond           135875           138489   \n",
              "\n",
              "   1990 Population  2000 Population  2010 Population  \n",
              "0            77214            82159            91497  \n",
              "1           155972           160338           173083  \n",
              "2            25366            34420            60978  \n",
              "3           188549           211220           191105  \n",
              "4           137806           162609           175756  "
            ]
          },
          "metadata": {
            "tags": []
          },
          "execution_count": 123
        }
      ]
    },
    {
      "cell_type": "code",
      "metadata": {
        "id": "bK9iPdbXIP3Z",
        "colab_type": "code",
        "colab": {
          "base_uri": "https://localhost:8080/",
          "height": 206
        },
        "outputId": "772483fb-cd10-477e-a357-4b3cef0f719c"
      },
      "source": [
        "merged_heatwater = pd.merge(left=count_heatwater, right=population, left_on='borocd', right_on='borocd')\n",
        "merged_heatwater.head()"
      ],
      "execution_count": 124,
      "outputs": [
        {
          "output_type": "execute_result",
          "data": {
            "text/html": [
              "<div>\n",
              "<style scoped>\n",
              "    .dataframe tbody tr th:only-of-type {\n",
              "        vertical-align: middle;\n",
              "    }\n",
              "\n",
              "    .dataframe tbody tr th {\n",
              "        vertical-align: top;\n",
              "    }\n",
              "\n",
              "    .dataframe thead th {\n",
              "        text-align: right;\n",
              "    }\n",
              "</style>\n",
              "<table border=\"1\" class=\"dataframe\">\n",
              "  <thead>\n",
              "    <tr style=\"text-align: right;\">\n",
              "      <th></th>\n",
              "      <th>community_board</th>\n",
              "      <th>count_of_311_requests</th>\n",
              "      <th>borocd</th>\n",
              "      <th>Borough</th>\n",
              "      <th>CD Number</th>\n",
              "      <th>CD Name</th>\n",
              "      <th>1970 Population</th>\n",
              "      <th>1980 Population</th>\n",
              "      <th>1990 Population</th>\n",
              "      <th>2000 Population</th>\n",
              "      <th>2010 Population</th>\n",
              "    </tr>\n",
              "  </thead>\n",
              "  <tbody>\n",
              "    <tr>\n",
              "      <th>0</th>\n",
              "      <td>01 BRONX</td>\n",
              "      <td>3346</td>\n",
              "      <td>201</td>\n",
              "      <td>Bronx</td>\n",
              "      <td>1</td>\n",
              "      <td>Melrose, Mott Haven, Port Morris</td>\n",
              "      <td>138557</td>\n",
              "      <td>78441</td>\n",
              "      <td>77214</td>\n",
              "      <td>82159</td>\n",
              "      <td>91497</td>\n",
              "    </tr>\n",
              "    <tr>\n",
              "      <th>1</th>\n",
              "      <td>01 BROOKLYN</td>\n",
              "      <td>2868</td>\n",
              "      <td>301</td>\n",
              "      <td>Brooklyn</td>\n",
              "      <td>1</td>\n",
              "      <td>Williamsburg, Greenpoint</td>\n",
              "      <td>179390</td>\n",
              "      <td>142942</td>\n",
              "      <td>155972</td>\n",
              "      <td>160338</td>\n",
              "      <td>173083</td>\n",
              "    </tr>\n",
              "    <tr>\n",
              "      <th>2</th>\n",
              "      <td>01 MANHATTAN</td>\n",
              "      <td>276</td>\n",
              "      <td>101</td>\n",
              "      <td>Manhattan</td>\n",
              "      <td>1</td>\n",
              "      <td>Battery Park City, Tribeca</td>\n",
              "      <td>7706</td>\n",
              "      <td>15918</td>\n",
              "      <td>25366</td>\n",
              "      <td>34420</td>\n",
              "      <td>60978</td>\n",
              "    </tr>\n",
              "    <tr>\n",
              "      <th>3</th>\n",
              "      <td>01 QUEENS</td>\n",
              "      <td>2466</td>\n",
              "      <td>401</td>\n",
              "      <td>Queens</td>\n",
              "      <td>1</td>\n",
              "      <td>Astoria, Long Island City</td>\n",
              "      <td>185925</td>\n",
              "      <td>185198</td>\n",
              "      <td>188549</td>\n",
              "      <td>211220</td>\n",
              "      <td>191105</td>\n",
              "    </tr>\n",
              "    <tr>\n",
              "      <th>4</th>\n",
              "      <td>01 STATEN ISLAND</td>\n",
              "      <td>1644</td>\n",
              "      <td>501</td>\n",
              "      <td>Staten Island</td>\n",
              "      <td>1</td>\n",
              "      <td>Stapleton, Port Richmond</td>\n",
              "      <td>135875</td>\n",
              "      <td>138489</td>\n",
              "      <td>137806</td>\n",
              "      <td>162609</td>\n",
              "      <td>175756</td>\n",
              "    </tr>\n",
              "  </tbody>\n",
              "</table>\n",
              "</div>"
            ],
            "text/plain": [
              "    community_board  count_of_311_requests borocd        Borough  CD Number  \\\n",
              "0          01 BRONX                   3346    201          Bronx          1   \n",
              "1       01 BROOKLYN                   2868    301       Brooklyn          1   \n",
              "2      01 MANHATTAN                    276    101      Manhattan          1   \n",
              "3         01 QUEENS                   2466    401         Queens          1   \n",
              "4  01 STATEN ISLAND                   1644    501  Staten Island          1   \n",
              "\n",
              "                            CD Name  1970 Population  1980 Population  \\\n",
              "0  Melrose, Mott Haven, Port Morris           138557            78441   \n",
              "1          Williamsburg, Greenpoint           179390           142942   \n",
              "2        Battery Park City, Tribeca             7706            15918   \n",
              "3         Astoria, Long Island City           185925           185198   \n",
              "4          Stapleton, Port Richmond           135875           138489   \n",
              "\n",
              "   1990 Population  2000 Population  2010 Population  \n",
              "0            77214            82159            91497  \n",
              "1           155972           160338           173083  \n",
              "2            25366            34420            60978  \n",
              "3           188549           211220           191105  \n",
              "4           137806           162609           175756  "
            ]
          },
          "metadata": {
            "tags": []
          },
          "execution_count": 124
        }
      ]
    },
    {
      "cell_type": "code",
      "metadata": {
        "id": "OZkoiS4qIUx3",
        "colab_type": "code",
        "colab": {
          "base_uri": "https://localhost:8080/",
          "height": 206
        },
        "outputId": "762b425c-298a-4047-c6be-405930b1421e"
      },
      "source": [
        "merged_other = pd.merge(left=count_other, right=population, left_on='borocd', right_on='borocd')\n",
        "merged_other.head()"
      ],
      "execution_count": 125,
      "outputs": [
        {
          "output_type": "execute_result",
          "data": {
            "text/html": [
              "<div>\n",
              "<style scoped>\n",
              "    .dataframe tbody tr th:only-of-type {\n",
              "        vertical-align: middle;\n",
              "    }\n",
              "\n",
              "    .dataframe tbody tr th {\n",
              "        vertical-align: top;\n",
              "    }\n",
              "\n",
              "    .dataframe thead th {\n",
              "        text-align: right;\n",
              "    }\n",
              "</style>\n",
              "<table border=\"1\" class=\"dataframe\">\n",
              "  <thead>\n",
              "    <tr style=\"text-align: right;\">\n",
              "      <th></th>\n",
              "      <th>community_board</th>\n",
              "      <th>count_of_311_requests</th>\n",
              "      <th>borocd</th>\n",
              "      <th>Borough</th>\n",
              "      <th>CD Number</th>\n",
              "      <th>CD Name</th>\n",
              "      <th>1970 Population</th>\n",
              "      <th>1980 Population</th>\n",
              "      <th>1990 Population</th>\n",
              "      <th>2000 Population</th>\n",
              "      <th>2010 Population</th>\n",
              "    </tr>\n",
              "  </thead>\n",
              "  <tbody>\n",
              "    <tr>\n",
              "      <th>0</th>\n",
              "      <td>01 BRONX</td>\n",
              "      <td>20316</td>\n",
              "      <td>201</td>\n",
              "      <td>Bronx</td>\n",
              "      <td>1</td>\n",
              "      <td>Melrose, Mott Haven, Port Morris</td>\n",
              "      <td>138557</td>\n",
              "      <td>78441</td>\n",
              "      <td>77214</td>\n",
              "      <td>82159</td>\n",
              "      <td>91497</td>\n",
              "    </tr>\n",
              "    <tr>\n",
              "      <th>1</th>\n",
              "      <td>01 BROOKLYN</td>\n",
              "      <td>59389</td>\n",
              "      <td>301</td>\n",
              "      <td>Brooklyn</td>\n",
              "      <td>1</td>\n",
              "      <td>Williamsburg, Greenpoint</td>\n",
              "      <td>179390</td>\n",
              "      <td>142942</td>\n",
              "      <td>155972</td>\n",
              "      <td>160338</td>\n",
              "      <td>173083</td>\n",
              "    </tr>\n",
              "    <tr>\n",
              "      <th>2</th>\n",
              "      <td>01 MANHATTAN</td>\n",
              "      <td>20261</td>\n",
              "      <td>101</td>\n",
              "      <td>Manhattan</td>\n",
              "      <td>1</td>\n",
              "      <td>Battery Park City, Tribeca</td>\n",
              "      <td>7706</td>\n",
              "      <td>15918</td>\n",
              "      <td>25366</td>\n",
              "      <td>34420</td>\n",
              "      <td>60978</td>\n",
              "    </tr>\n",
              "    <tr>\n",
              "      <th>3</th>\n",
              "      <td>01 QUEENS</td>\n",
              "      <td>53370</td>\n",
              "      <td>401</td>\n",
              "      <td>Queens</td>\n",
              "      <td>1</td>\n",
              "      <td>Astoria, Long Island City</td>\n",
              "      <td>185925</td>\n",
              "      <td>185198</td>\n",
              "      <td>188549</td>\n",
              "      <td>211220</td>\n",
              "      <td>191105</td>\n",
              "    </tr>\n",
              "    <tr>\n",
              "      <th>4</th>\n",
              "      <td>01 STATEN ISLAND</td>\n",
              "      <td>58449</td>\n",
              "      <td>501</td>\n",
              "      <td>Staten Island</td>\n",
              "      <td>1</td>\n",
              "      <td>Stapleton, Port Richmond</td>\n",
              "      <td>135875</td>\n",
              "      <td>138489</td>\n",
              "      <td>137806</td>\n",
              "      <td>162609</td>\n",
              "      <td>175756</td>\n",
              "    </tr>\n",
              "  </tbody>\n",
              "</table>\n",
              "</div>"
            ],
            "text/plain": [
              "    community_board  count_of_311_requests borocd        Borough  CD Number  \\\n",
              "0          01 BRONX                  20316    201          Bronx          1   \n",
              "1       01 BROOKLYN                  59389    301       Brooklyn          1   \n",
              "2      01 MANHATTAN                  20261    101      Manhattan          1   \n",
              "3         01 QUEENS                  53370    401         Queens          1   \n",
              "4  01 STATEN ISLAND                  58449    501  Staten Island          1   \n",
              "\n",
              "                            CD Name  1970 Population  1980 Population  \\\n",
              "0  Melrose, Mott Haven, Port Morris           138557            78441   \n",
              "1          Williamsburg, Greenpoint           179390           142942   \n",
              "2        Battery Park City, Tribeca             7706            15918   \n",
              "3         Astoria, Long Island City           185925           185198   \n",
              "4          Stapleton, Port Richmond           135875           138489   \n",
              "\n",
              "   1990 Population  2000 Population  2010 Population  \n",
              "0            77214            82159            91497  \n",
              "1           155972           160338           173083  \n",
              "2            25366            34420            60978  \n",
              "3           188549           211220           191105  \n",
              "4           137806           162609           175756  "
            ]
          },
          "metadata": {
            "tags": []
          },
          "execution_count": 125
        }
      ]
    },
    {
      "cell_type": "code",
      "metadata": {
        "id": "LGaC3eq-KM0L",
        "colab_type": "code",
        "colab": {
          "base_uri": "https://localhost:8080/",
          "height": 1000
        },
        "outputId": "6e259b18-739a-46a2-fb4c-a789ca531cc7"
      },
      "source": [
        "# create a data subset for each complaint type\n",
        "\n",
        "noise_scatter = [ # one subset for all borocd records in manhattan.\n",
        "  # we are creating a list of two lists. x = population in thousands\n",
        "  [merged_noise['2010 Population']/1000],\n",
        "  # y = count of 311 requests\n",
        "  [merged_noise.count_of_311_requests]\n",
        "]\n",
        "\n",
        "heatwater_scatter = [\n",
        "  [merged_heatwater['2010 Population']/1000],\n",
        "  [merged_heatwater.count_of_311_requests]\n",
        "]\n",
        "\n",
        "other_scatter = [\n",
        "  [merged_other['2010 Population']/1000],\n",
        "  [merged_other.count_of_311_requests]\n",
        "]\n",
        "print(noise_scatter)"
      ],
      "execution_count": 128,
      "outputs": [
        {
          "output_type": "stream",
          "text": [
            "[[0      91.497\n",
            "1     173.083\n",
            "2      60.978\n",
            "3     191.105\n",
            "4     175.756\n",
            "5      52.246\n",
            "6      99.617\n",
            "7      90.016\n",
            "8     113.200\n",
            "9     132.003\n",
            "10     79.762\n",
            "11    152.985\n",
            "12    163.277\n",
            "13    171.576\n",
            "14    160.209\n",
            "15    146.441\n",
            "16    112.634\n",
            "17    103.245\n",
            "18    172.598\n",
            "19    128.200\n",
            "20    182.896\n",
            "21     51.673\n",
            "22    169.190\n",
            "23     83.268\n",
            "24    104.709\n",
            "25    142.745\n",
            "26    113.257\n",
            "27    139.286\n",
            "28    126.230\n",
            "29    209.084\n",
            "30    247.354\n",
            "31    101.731\n",
            "32     96.317\n",
            "33    219.920\n",
            "34    151.107\n",
            "35    172.298\n",
            "36     98.429\n",
            "37    110.193\n",
            "38    143.317\n",
            "39    120.392\n",
            "40    124.491\n",
            "41    115.723\n",
            "42    122.396\n",
            "43    113.232\n",
            "44    181.981\n",
            "45    120.511\n",
            "46    116.431\n",
            "47    152.344\n",
            "48    191.382\n",
            "49    190.020\n",
            "50    225.919\n",
            "51    104.278\n",
            "52    188.593\n",
            "53    160.664\n",
            "54    114.978\n",
            "55    159.650\n",
            "56     86.468\n",
            "57    155.252\n",
            "58    193.543\n",
            "Name: 2010 Population, dtype: float64], [0      3691\n",
            "1      5844\n",
            "2       722\n",
            "3      4589\n",
            "4      5052\n",
            "5      1939\n",
            "6      3795\n",
            "7      1837\n",
            "8      2279\n",
            "9      1592\n",
            "10     4238\n",
            "11     7898\n",
            "12     6272\n",
            "13     3881\n",
            "14     1188\n",
            "15     7407\n",
            "16     6394\n",
            "17     2702\n",
            "18     2710\n",
            "19     6819\n",
            "20     5225\n",
            "21      741\n",
            "22     4911\n",
            "23     3871\n",
            "24     1884\n",
            "25     2078\n",
            "26     1835\n",
            "27     9207\n",
            "28     1948\n",
            "29     4297\n",
            "30     3276\n",
            "31     4406\n",
            "32     4068\n",
            "33     2283\n",
            "34     4429\n",
            "35     5037\n",
            "36     4238\n",
            "37     4586\n",
            "38     5048\n",
            "39     2305\n",
            "40     1837\n",
            "41     7659\n",
            "42     5213\n",
            "43     5227\n",
            "44     1974\n",
            "45     4953\n",
            "46      810\n",
            "47     5585\n",
            "48     1901\n",
            "49    11755\n",
            "50     6119\n",
            "51     2118\n",
            "52     2872\n",
            "53     4884\n",
            "54     2848\n",
            "55     2429\n",
            "56     3161\n",
            "57     4736\n",
            "58     3168\n",
            "Name: count_of_311_requests, dtype: int64]]\n"
          ],
          "name": "stdout"
        }
      ]
    },
    {
      "cell_type": "code",
      "metadata": {
        "id": "mAxzz5S2JCoi",
        "colab_type": "code",
        "colab": {
          "base_uri": "https://localhost:8080/",
          "height": 350
        },
        "outputId": "5a1ca2bf-3dce-4119-9fa9-d40a8d8f1c59"
      },
      "source": [
        "# define the color to be used for the markers for each data subset group\n",
        "colors = [\"red\", \"green\", \"blue\"]\n",
        "\n",
        "# define the labels to be used for the data subset group\n",
        "groups = [\"noise\", \"heatwater\", \"other\"]\n",
        "\n",
        "plt.figure(figsize=(5,5))\n",
        "\n",
        "plt.scatter(\n",
        "  noise_scatter[0],\n",
        "  noise_scatter[1],\n",
        "  alpha=0.8,\n",
        "  c=colors[2],\n",
        "  s=50,\n",
        "  label=groups[0]\n",
        ")\n",
        "# each new plot gets rendered on top of the previous one\n",
        "plt.scatter(\n",
        "  heatwater_scatter[0],\n",
        "  heatwater_scatter[1],\n",
        "  alpha=0.8,\n",
        "  c=colors[1],\n",
        "  s=50,\n",
        "  label=groups[1]\n",
        ")\n",
        "plt.scatter(\n",
        "  other_scatter[0],\n",
        "  other_scatter[1],\n",
        "  alpha=0.4,\n",
        "  c=colors[0],\n",
        "  s=50,\n",
        "  label=groups[2]\n",
        ")\n",
        "\n",
        "plt.title('# of Each Complain Type vs. Community District Population')\n",
        "plt.xlabel('Population in Community District (Thousands)')\n",
        "plt.ylabel('# of Each Complaint Type in Community District')\n",
        "\n",
        "# add legend at specified location\n",
        "# loc=1 top right\n",
        "# loc=2 top left\n",
        "# loc=3 bottom left\n",
        "# loc=4 bottom right\n",
        "plt.legend(loc=2)\n",
        "\n",
        "plt.show()"
      ],
      "execution_count": 132,
      "outputs": [
        {
          "output_type": "display_data",
          "data": {
            "image/png": "[encoded data removed]",
            "text/plain": [
              "<Figure size 360x360 with 1 Axes>"
            ]
          },
          "metadata": {
            "tags": []
          }
        }
      ]
    },
    {
      "cell_type": "markdown",
      "metadata": {
        "id": "cEpkaB9wYOw8",
        "colab_type": "text"
      },
      "source": [
        "Does it seem like there's a positive correlation between population and noise complaints or population and heat/water complaints? What's a possible explanation for the relationship or lack of relationship?"
      ]
    },
    {
      "cell_type": "markdown",
      "metadata": {
        "id": "PKgSWr22RF50",
        "colab_type": "text"
      },
      "source": [
        "There is maybe a very slight correlation between population and noise or heat/water complaints. One possible explaination for the weakness of this relationship is that more densely populated communities happened to be located in areas with newer buildings, perhaps ones that are better maintained and are built with better materials, reducing these type of complaints. This is supported by an apparent rise in complaints towards the middle of the population distribution."
      ]
    },
    {
      "cell_type": "code",
      "metadata": {
        "id": "2mEV6MTiSwiP",
        "colab_type": "code",
        "colab": {}
      },
      "source": [
        ""
      ],
      "execution_count": 0,
      "outputs": []
    }
  ]
}